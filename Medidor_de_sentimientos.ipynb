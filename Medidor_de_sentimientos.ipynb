{
 "cells": [
  {
   "cell_type": "code",
   "execution_count": 1,
   "metadata": {},
   "outputs": [],
   "source": [
    "## Medidor de sentimientos"
   ]
  },
  {
   "cell_type": "code",
   "execution_count": 4,
   "metadata": {},
   "outputs": [
    {
     "name": "stdout",
     "output_type": "stream",
     "text": [
      "importing Jupyter notebook from C:\\Users\\Alfredo\\Bitácoras\\Twitter\\Sentiment\\sentiment_mod.ipynb\n",
      "10664\n"
     ]
    }
   ],
   "source": [
    "import import_ipynb\n",
    "from Sentiment import sentiment_mod as s"
   ]
  },
  {
   "cell_type": "code",
   "execution_count": 10,
   "metadata": {},
   "outputs": [
    {
     "name": "stdout",
     "output_type": "stream",
     "text": [
      "('pos', 0.8)\n",
      "('pos', 1.0)\n",
      "('pos', 1.0)\n"
     ]
    }
   ],
   "source": [
    "print(s.sentiment(\"the rock is destined to be the 21st century's new conan and that he's going to make a splash even greater than arnold schwarzenegger , jean-claud van damme or steven segal \"))\n",
    "print(s.sentiment(\"if you sometimes like to go to the movies to have fun , wasabi is a good place to start \"))\n",
    "print(s.sentiment(\"La verdad es que estuvo muy bueno\"))"
   ]
  }
 ],
 "metadata": {
  "kernelspec": {
   "display_name": "Python 3",
   "language": "python",
   "name": "python3"
  },
  "language_info": {
   "codemirror_mode": {
    "name": "ipython",
    "version": 3
   },
   "file_extension": ".py",
   "mimetype": "text/x-python",
   "name": "python",
   "nbconvert_exporter": "python",
   "pygments_lexer": "ipython3",
   "version": "3.7.6"
  }
 },
 "nbformat": 4,
 "nbformat_minor": 4
}
