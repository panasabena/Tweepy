{
 "cells": [
  {
   "cell_type": "code",
   "execution_count": null,
   "metadata": {},
   "outputs": [],
   "source": [
    "import tweepy\n",
    "import csv\n",
    "import time\n",
    "import pandas as pd\n",
    "from datetime import date, datetime\n",
    "import os\n",
    "from tweepy import Stream\n",
    "from tweepy import OAuthHandler\n",
    "from tweepy.streaming import StreamListener\n",
    "import json\n",
    "from Auten import *"
   ]
  },
  {
   "cell_type": "code",
   "execution_count": null,
   "metadata": {},
   "outputs": [],
   "source": [
    "#consumer key, consumer secret, access token, access secret.\n",
    "ckey=\"\"\n",
    "csecret=\"\"\n",
    "atoken=\"\"\n",
    "asecret=\"\"\n",
    "\n",
    "'''\n",
    "Función utilizada para utilizar la Api de Twitter\n",
    "'''\n",
    "\n",
    "def get_auth():\n",
    "    consumer_key = ''\n",
    "    consumer_secret = ''\n",
    "    access_token = ''\n",
    "    access_token_secret = ''\n",
    "    auth = tweepy.OAuthHandler(consumer_key, consumer_secret)\n",
    "    auth.set_access_token(access_token, access_token_secret)           \n",
    "    return auth"
   ]
  },
  {
   "cell_type": "code",
   "execution_count": null,
   "metadata": {
    "scrolled": true
   },
   "outputs": [],
   "source": [
    "'''\n",
    "Código base para la obtención de los tweets. \n",
    "'''\n",
    "class MyStreamListener(tweepy.StreamListener):\n",
    "    def on_status(self, status):\n",
    "            csvFile = open('messi.csv', 'a', newline='')\n",
    "            csvWriter = csv.writer(csvFile)\n",
    "            if status is not False and status.text is not None:\n",
    "                try:\n",
    "                    texto = status.extended_tweet[\"full_text\"]\n",
    "                except AttributeError:\n",
    "                    texto = status.text\n",
    "                print(texto)\n",
    "                linea = [status.created_at,\n",
    "                         status.id, texto, status.source, status.truncated,\n",
    "                         status.in_reply_to_status_id, status.in_reply_to_user_id,\n",
    "                         status.in_reply_to_screen_name, status.geo, status.coordinates,\n",
    "                         status.place,status.contributors, status.lang, status.retweeted]\n",
    "                linea = linea\n",
    "                csvWriter.writerow(linea)\n",
    "            print(\"Almacenamos Tweet\")\n",
    "            csvFile.close()\n",
    "            print(\"fin\")\n",
    "\n",
    "    def on_error(self, status_code):\n",
    "        print(status_code)\n",
    "        return False\n",
    "\n",
    "\n",
    "\n",
    "if __name__ == '__main__':\n",
    "    print(\"===== Captador de tweets =====\")\n",
    "    # Get an API item using tweepy\n",
    "    auth = get_auth()  # Retrieve an auth object using the function 'get_auth' above\n",
    "    api = tweepy.API(auth)  # Build an API object.\n",
    "\n",
    "    # Connect to the stream\n",
    "    myStreamListener = MyStreamListener()\n",
    "    while True:\n",
    "        try:\n",
    "            if os.path.isfile(\n",
    "                    'messi.csv'):\n",
    "               print('Preparado el fichero')\n",
    "            else:\n",
    "                print('El no archivo existe.');\n",
    "                csvFile = open('messi.csv', 'w', newline='')\n",
    "                csvWriter = csv.writer(csvFile)\n",
    "                cabecera=['Fecha_creación','Id','Texto','Fuente','Truncado'\n",
    "                    ,'Respuesta_al_tweet','Respuesta_al_usuario_id'\n",
    "                    ,'Respuesta_al_usuario_nombre'\n",
    "                    ,'Localización'\n",
    "                    ,'Coordenadas'\n",
    "                    ,'Ciudad'\n",
    "                    ,'Contribuciones'\n",
    "                    ,'Idioma'\n",
    "                    ,'Retweeted'\n",
    "\n",
    "                ]\n",
    "                csvWriter.writerow(cabecera)\n",
    "                csvFile.close()\n",
    "                print(\"Creación de la cabecera\")\n",
    "            myStream = tweepy.Stream(auth=api.auth, listener=myStreamListener)\n",
    "            print(\">> Listening to tweets about #messi en castellano:\")\n",
    "            myStream.filter(track=['#messi'], languages=['es'])\n",
    "        except:\n",
    "            continue\n",
    "    # End\n",
    "    print(\"Terminado\")"
   ]
  },
  {
   "cell_type": "code",
   "execution_count": null,
   "metadata": {},
   "outputs": [],
   "source": [
    "data=pd.read_csv('messi.csv', index_col=0,error_bad_lines=False, encoding='latin-1')\n",
    "data.shape\n",
    "##Buscar tweets de #FreePaulo\n"
   ]
  },
  {
   "cell_type": "code",
   "execution_count": null,
   "metadata": {},
   "outputs": [],
   "source": [
    "#datamessi=pd.read_csv('messi.csv', index_col=0, encoding='latin-1')\n",
    "data.to_excel('data.xlsx', index=False)\n",
    "#datamessi.tail() ## Hice esto para ver cuando cortaba el archivo, y evidentemente guarda todo"
   ]
  },
  {
   "cell_type": "code",
   "execution_count": null,
   "metadata": {},
   "outputs": [],
   "source": [
    "datamessi.head()"
   ]
  },
  {
   "cell_type": "code",
   "execution_count": null,
   "metadata": {},
   "outputs": [],
   "source": [
    "print(\"##--->  Datos faltantes de DATA_TEST  <---##:\\n\",data.isna().sum())"
   ]
  }
 ],
 "metadata": {
  "kernelspec": {
   "display_name": "Python 3",
   "language": "python",
   "name": "python3"
  },
  "language_info": {
   "codemirror_mode": {
    "name": "ipython",
    "version": 3
   },
   "file_extension": ".py",
   "mimetype": "text/x-python",
   "name": "python",
   "nbconvert_exporter": "python",
   "pygments_lexer": "ipython3",
   "version": "3.7.6"
  }
 },
 "nbformat": 4,
 "nbformat_minor": 4
}
